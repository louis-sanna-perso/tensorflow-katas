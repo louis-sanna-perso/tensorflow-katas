{
 "cells": [
  {
   "cell_type": "code",
   "execution_count": 69,
   "id": "31f5b992",
   "metadata": {},
   "outputs": [],
   "source": [
    "import tensorflow as tf\n",
    "import numpy as np"
   ]
  },
  {
   "cell_type": "code",
   "execution_count": 70,
   "id": "229521de",
   "metadata": {},
   "outputs": [],
   "source": [
    "### constants"
   ]
  },
  {
   "cell_type": "code",
   "execution_count": 110,
   "id": "db115a8f",
   "metadata": {},
   "outputs": [],
   "source": [
    "(x_train, y_train), (x_test, y_test) = tf.keras.datasets.boston_housing.load_data()"
   ]
  },
  {
   "cell_type": "code",
   "execution_count": 111,
   "id": "b916adf1",
   "metadata": {},
   "outputs": [
    {
     "data": {
      "text/plain": [
       "(404, 13)"
      ]
     },
     "execution_count": 111,
     "metadata": {},
     "output_type": "execute_result"
    }
   ],
   "source": [
    "x_train.shape"
   ]
  },
  {
   "cell_type": "code",
   "execution_count": 112,
   "id": "dd08b5d2",
   "metadata": {},
   "outputs": [
    {
     "data": {
      "text/plain": [
       "array([  1.23247,   0.     ,   8.14   ,   0.     ,   0.538  ,   6.142  ,\n",
       "        91.7    ,   3.9769 ,   4.     , 307.     ,  21.     , 396.9    ,\n",
       "        18.72   ])"
      ]
     },
     "execution_count": 112,
     "metadata": {},
     "output_type": "execute_result"
    }
   ],
   "source": [
    "x_train[0]"
   ]
  },
  {
   "cell_type": "code",
   "execution_count": 113,
   "id": "edbda752",
   "metadata": {},
   "outputs": [
    {
     "data": {
      "text/plain": [
       "(404,)"
      ]
     },
     "execution_count": 113,
     "metadata": {},
     "output_type": "execute_result"
    }
   ],
   "source": [
    "y_train.shape"
   ]
  },
  {
   "cell_type": "code",
   "execution_count": 114,
   "id": "dc3b56a8",
   "metadata": {},
   "outputs": [
    {
     "data": {
      "text/plain": [
       "15.2"
      ]
     },
     "execution_count": 114,
     "metadata": {},
     "output_type": "execute_result"
    }
   ],
   "source": [
    "y_train[0]"
   ]
  },
  {
   "cell_type": "code",
   "execution_count": 115,
   "id": "3e50b470",
   "metadata": {},
   "outputs": [],
   "source": [
    "mean = x_train.mean(axis=0)\n",
    "std = x_train.std(axis=0)\n",
    "\n",
    "x_train -= x_mean\n",
    "x_train /= x_std\n",
    "\n",
    "x_test -= x_test_mean\n",
    "x_test /= x_std_test "
   ]
  },
  {
   "cell_type": "code",
   "execution_count": 116,
   "id": "74b5cf26",
   "metadata": {},
   "outputs": [],
   "source": [
    "model = tf.keras.Sequential([\n",
    "    tf.keras.layers.Normalization(),\n",
    "    tf.keras.layers.Dense(64, activation=\"relu\"),\n",
    "    tf.keras.layers.Dense(32, activation=\"relu\"),\n",
    "    tf.keras.layers.Dense(32, activation=\"relu\"),\n",
    "    tf.keras.layers.Dense(32, activation=\"relu\"),\n",
    "    tf.keras.layers.Dense(1)\n",
    "])\n",
    "model.compile(optimizer=\"rmsprop\",loss=\"mse\", metrics=[\"mae\"])"
   ]
  },
  {
   "cell_type": "code",
   "execution_count": 117,
   "id": "86b07f15",
   "metadata": {},
   "outputs": [
    {
     "name": "stdout",
     "output_type": "stream",
     "text": [
      "Model: \"sequential_13\"\n",
      "_________________________________________________________________\n",
      " Layer (type)                Output Shape              Param #   \n",
      "=================================================================\n",
      " normalization_12 (Normaliza  (404, 13)                27        \n",
      " tion)                                                           \n",
      "                                                                 \n",
      " dense_56 (Dense)            (404, 64)                 896       \n",
      "                                                                 \n",
      " dense_57 (Dense)            (404, 32)                 2080      \n",
      "                                                                 \n",
      " dense_58 (Dense)            (404, 32)                 1056      \n",
      "                                                                 \n",
      " dense_59 (Dense)            (404, 32)                 1056      \n",
      "                                                                 \n",
      " dense_60 (Dense)            (404, 1)                  33        \n",
      "                                                                 \n",
      "=================================================================\n",
      "Total params: 5,148\n",
      "Trainable params: 5,121\n",
      "Non-trainable params: 27\n",
      "_________________________________________________________________\n"
     ]
    }
   ],
   "source": [
    "model.build(input_shape=x_train.shape)\n",
    "model.summary()"
   ]
  },
  {
   "cell_type": "code",
   "execution_count": 118,
   "id": "9e5799fd",
   "metadata": {},
   "outputs": [
    {
     "name": "stdout",
     "output_type": "stream",
     "text": [
      "Epoch 1/40\n",
      "14/14 [==============================] - 1s 12ms/step - loss: 552.9474 - mae: 21.6597 - val_loss: 528.2567 - val_mae: 21.0939\n",
      "Epoch 2/40\n",
      "14/14 [==============================] - 0s 3ms/step - loss: 438.9386 - mae: 18.7865 - val_loss: 363.7378 - val_mae: 16.9282\n",
      "Epoch 3/40\n",
      "14/14 [==============================] - 0s 3ms/step - loss: 248.1694 - mae: 13.3010 - val_loss: 152.1580 - val_mae: 10.5150\n",
      "Epoch 4/40\n",
      "14/14 [==============================] - 0s 3ms/step - loss: 91.9829 - mae: 7.4617 - val_loss: 63.2119 - val_mae: 6.4838\n",
      "Epoch 5/40\n",
      "14/14 [==============================] - 0s 3ms/step - loss: 48.3504 - mae: 5.2717 - val_loss: 43.9545 - val_mae: 5.2559\n",
      "Epoch 6/40\n",
      "14/14 [==============================] - 0s 3ms/step - loss: 34.3223 - mae: 4.3127 - val_loss: 35.3211 - val_mae: 4.5615\n",
      "Epoch 7/40\n",
      "14/14 [==============================] - 0s 3ms/step - loss: 24.9626 - mae: 3.6113 - val_loss: 27.2113 - val_mae: 3.8487\n",
      "Epoch 8/40\n",
      "14/14 [==============================] - 0s 3ms/step - loss: 19.8141 - mae: 3.1795 - val_loss: 25.8287 - val_mae: 3.6074\n",
      "Epoch 9/40\n",
      "14/14 [==============================] - 0s 3ms/step - loss: 16.6449 - mae: 2.8581 - val_loss: 30.2509 - val_mae: 4.1392\n",
      "Epoch 10/40\n",
      "14/14 [==============================] - 0s 3ms/step - loss: 15.3161 - mae: 2.8201 - val_loss: 22.8037 - val_mae: 3.2104\n",
      "Epoch 11/40\n",
      "14/14 [==============================] - 0s 3ms/step - loss: 13.3299 - mae: 2.6068 - val_loss: 22.8555 - val_mae: 3.1700\n",
      "Epoch 12/40\n",
      "14/14 [==============================] - 0s 3ms/step - loss: 13.1809 - mae: 2.5778 - val_loss: 22.1185 - val_mae: 3.1366\n",
      "Epoch 13/40\n",
      "14/14 [==============================] - 0s 3ms/step - loss: 11.9013 - mae: 2.4526 - val_loss: 21.7832 - val_mae: 3.1188\n",
      "Epoch 14/40\n",
      "14/14 [==============================] - 0s 3ms/step - loss: 11.8093 - mae: 2.4252 - val_loss: 22.3644 - val_mae: 3.2341\n",
      "Epoch 15/40\n",
      "14/14 [==============================] - 0s 3ms/step - loss: 11.1596 - mae: 2.4062 - val_loss: 23.1280 - val_mae: 3.2659\n",
      "Epoch 16/40\n",
      "14/14 [==============================] - 0s 3ms/step - loss: 10.6378 - mae: 2.3248 - val_loss: 22.0775 - val_mae: 3.1489\n",
      "Epoch 17/40\n",
      "14/14 [==============================] - 0s 3ms/step - loss: 10.9661 - mae: 2.3730 - val_loss: 21.1576 - val_mae: 3.0298\n",
      "Epoch 18/40\n",
      "14/14 [==============================] - 0s 3ms/step - loss: 10.3476 - mae: 2.2846 - val_loss: 21.5616 - val_mae: 3.0456\n",
      "Epoch 19/40\n",
      "14/14 [==============================] - 0s 3ms/step - loss: 9.8230 - mae: 2.2753 - val_loss: 21.2147 - val_mae: 3.0338\n",
      "Epoch 20/40\n",
      "14/14 [==============================] - 0s 3ms/step - loss: 10.0022 - mae: 2.2596 - val_loss: 20.8798 - val_mae: 2.9331\n",
      "Epoch 21/40\n",
      "14/14 [==============================] - 0s 3ms/step - loss: 9.4163 - mae: 2.2021 - val_loss: 21.6304 - val_mae: 3.1683\n",
      "Epoch 22/40\n",
      "14/14 [==============================] - 0s 3ms/step - loss: 9.8687 - mae: 2.2387 - val_loss: 21.0242 - val_mae: 2.9718\n",
      "Epoch 23/40\n",
      "14/14 [==============================] - 0s 3ms/step - loss: 9.6212 - mae: 2.2241 - val_loss: 21.5826 - val_mae: 2.9914\n",
      "Epoch 24/40\n",
      "14/14 [==============================] - 0s 3ms/step - loss: 8.9143 - mae: 2.1388 - val_loss: 23.3795 - val_mae: 3.4036\n",
      "Epoch 25/40\n",
      "14/14 [==============================] - 0s 3ms/step - loss: 8.9019 - mae: 2.1456 - val_loss: 21.0511 - val_mae: 3.0590\n",
      "Epoch 26/40\n",
      "14/14 [==============================] - 0s 3ms/step - loss: 8.3936 - mae: 2.0523 - val_loss: 21.2342 - val_mae: 2.9372\n",
      "Epoch 27/40\n",
      "14/14 [==============================] - 0s 3ms/step - loss: 9.0506 - mae: 2.1878 - val_loss: 20.2243 - val_mae: 2.9154\n",
      "Epoch 28/40\n",
      "14/14 [==============================] - 0s 3ms/step - loss: 8.7966 - mae: 2.1901 - val_loss: 20.1362 - val_mae: 2.9069\n",
      "Epoch 29/40\n",
      "14/14 [==============================] - 0s 3ms/step - loss: 8.1335 - mae: 2.0310 - val_loss: 20.0272 - val_mae: 2.8355\n",
      "Epoch 30/40\n",
      "14/14 [==============================] - 0s 3ms/step - loss: 8.4439 - mae: 2.1136 - val_loss: 19.9605 - val_mae: 2.8380\n",
      "Epoch 31/40\n",
      "14/14 [==============================] - 0s 3ms/step - loss: 8.0751 - mae: 2.0324 - val_loss: 20.9873 - val_mae: 3.0896\n",
      "Epoch 32/40\n",
      "14/14 [==============================] - 0s 3ms/step - loss: 8.2459 - mae: 2.0404 - val_loss: 20.8119 - val_mae: 3.0321\n",
      "Epoch 33/40\n",
      "14/14 [==============================] - 0s 3ms/step - loss: 7.9672 - mae: 2.0491 - val_loss: 19.8935 - val_mae: 2.9116\n",
      "Epoch 34/40\n",
      "14/14 [==============================] - 0s 3ms/step - loss: 8.1378 - mae: 2.0846 - val_loss: 19.7260 - val_mae: 2.9617\n",
      "Epoch 35/40\n",
      "14/14 [==============================] - 0s 3ms/step - loss: 8.2274 - mae: 2.0750 - val_loss: 20.1269 - val_mae: 3.0559\n",
      "Epoch 36/40\n",
      "14/14 [==============================] - 0s 3ms/step - loss: 7.5627 - mae: 1.9884 - val_loss: 24.3560 - val_mae: 3.3295\n",
      "Epoch 37/40\n",
      "14/14 [==============================] - 0s 3ms/step - loss: 7.5172 - mae: 1.9789 - val_loss: 19.4893 - val_mae: 2.9401\n",
      "Epoch 38/40\n",
      "14/14 [==============================] - 0s 3ms/step - loss: 7.5273 - mae: 1.9796 - val_loss: 20.0886 - val_mae: 3.0898\n",
      "Epoch 39/40\n",
      "14/14 [==============================] - 0s 3ms/step - loss: 7.4435 - mae: 1.9424 - val_loss: 20.2831 - val_mae: 2.9744\n",
      "Epoch 40/40\n",
      "14/14 [==============================] - 0s 3ms/step - loss: 7.3517 - mae: 1.9621 - val_loss: 19.5001 - val_mae: 2.9426\n"
     ]
    }
   ],
   "source": [
    "history = model.fit(x=x_train, y=y_train, epochs=40, batch_size=30, validation_data=(x_test, y_test))"
   ]
  },
  {
   "cell_type": "code",
   "execution_count": 108,
   "id": "3259bbc8",
   "metadata": {},
   "outputs": [
    {
     "data": {
      "image/png": "[encoded data removed]",
      "text/plain": [
       "<Figure size 640x480 with 1 Axes>"
      ]
     },
     "metadata": {},
     "output_type": "display_data"
    }
   ],
   "source": [
    "\n",
    "from matplotlib import pyplot as plt\n",
    "\n",
    "plt.plot(history.history['loss'])\n",
    "plt.plot(history.history['val_loss'])\n",
    "plt.title('model loss')\n",
    "plt.ylabel('loss')\n",
    "plt.xlabel('epoch')\n",
    "plt.legend(['train', 'val'], loc='upper left')\n",
    "plt.show()"
   ]
  },
  {
   "cell_type": "code",
   "execution_count": null,
   "id": "ccf784d7",
   "metadata": {},
   "outputs": [],
   "source": []
  },
  {
   "cell_type": "code",
   "execution_count": null,
   "id": "c90e2b15",
   "metadata": {},
   "outputs": [],
   "source": []
  }
 ],
 "metadata": {
  "kernelspec": {
   "display_name": "Python 3 (ipykernel)",
   "language": "python",
   "name": "python3"
  },
  "language_info": {
   "codemirror_mode": {
    "name": "ipython",
    "version": 3
   },
   "file_extension": ".py",
   "mimetype": "text/x-python",
   "name": "python",
   "nbconvert_exporter": "python",
   "pygments_lexer": "ipython3",
   "version": "3.9.12"
  }
 },
 "nbformat": 4,
 "nbformat_minor": 5
}
