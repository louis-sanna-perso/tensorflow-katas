{
 "cells": [
  {
   "cell_type": "code",
   "execution_count": 1,
   "id": "781af4b7",
   "metadata": {},
   "outputs": [
    {
     "name": "stderr",
     "output_type": "stream",
     "text": [
      "/Users/louissanna/opt/anaconda3/lib/python3.9/site-packages/scipy/__init__.py:146: UserWarning: A NumPy version >=1.16.5 and <1.23.0 is required for this version of SciPy (detected version 1.23.4\n",
      "  warnings.warn(f\"A NumPy version >={np_minversion} and <{np_maxversion}\"\n"
     ]
    }
   ],
   "source": [
    "import tensorflow as tf\n",
    "import numpy as np\n",
    "from matplotlib import pyplot as plt\n"
   ]
  },
  {
   "cell_type": "code",
   "execution_count": 5,
   "id": "b6ab5c0f",
   "metadata": {},
   "outputs": [],
   "source": [
    "### Function example\n",
    "inputs = tf.keras.Input(shape=(3), name=\"my_input\")\n",
    "features = tf.keras.layers.Dense(64, activation=\"relu\")(inputs)\n",
    "outputs = tf.keras.layers.Dense(12, activation=\"softmax\")(features)\n",
    "model = tf.keras.Model(inputs=inputs,outputs=outputs)"
   ]
  },
  {
   "cell_type": "code",
   "execution_count": 6,
   "id": "330279ca",
   "metadata": {},
   "outputs": [
    {
     "name": "stdout",
     "output_type": "stream",
     "text": [
      "Model: \"model\"\n",
      "_________________________________________________________________\n",
      " Layer (type)                Output Shape              Param #   \n",
      "=================================================================\n",
      " my_input (InputLayer)       [(None, 3)]               0         \n",
      "                                                                 \n",
      " dense_4 (Dense)             (None, 64)                256       \n",
      "                                                                 \n",
      " dense_5 (Dense)             (None, 12)                780       \n",
      "                                                                 \n",
      "=================================================================\n",
      "Total params: 1,036\n",
      "Trainable params: 1,036\n",
      "Non-trainable params: 0\n",
      "_________________________________________________________________\n"
     ]
    }
   ],
   "source": [
    "model.summary()"
   ]
  },
  {
   "cell_type": "code",
   "execution_count": 7,
   "id": "f8b2f9c5",
   "metadata": {},
   "outputs": [],
   "source": [
    "vocabulary_size = 10000\n",
    "num_tags = 100\n",
    "num_departments = 4"
   ]
  },
  {
   "cell_type": "code",
   "execution_count": 16,
   "id": "8feda987",
   "metadata": {},
   "outputs": [],
   "source": [
    "title_input = tf.keras.Input(shape=(vocabulary_size,), name=\"title_input\")\n",
    "text_input = tf.keras.Input(shape=(vocabulary_size,), name=\"text_input\")\n",
    "tags_input = tf.keras.Input(shape=(num_tags,), name=\"tags_input\")\n",
    "\n",
    "features = tf.keras.layers.Concatenate()([title_input, text_input, tags_input])\n",
    "features = tf.keras.layers.Dense(64, activation=\"relu\")(features)\n",
    "priority = tf.keras.layers.Dense(1, activation=\"sigmoid\")(features)\n",
    "dep = tf.keras.layers.Dense(num_departments, activation=\"softmax\")(features)\n",
    "model = tf.keras.Model(inputs=[title_input, text_input, tags_input], outputs=[priority, dep])"
   ]
  },
  {
   "cell_type": "code",
   "execution_count": 17,
   "id": "5a8ca2bc",
   "metadata": {},
   "outputs": [
    {
     "name": "stdout",
     "output_type": "stream",
     "text": [
      "Model: \"model_3\"\n",
      "__________________________________________________________________________________________________\n",
      " Layer (type)                   Output Shape         Param #     Connected to                     \n",
      "==================================================================================================\n",
      " title_input (InputLayer)       [(None, 10000)]      0           []                               \n",
      "                                                                                                  \n",
      " text_input (InputLayer)        [(None, 10000)]      0           []                               \n",
      "                                                                                                  \n",
      " tags_input (InputLayer)        [(None, 100)]        0           []                               \n",
      "                                                                                                  \n",
      " concatenate_2 (Concatenate)    (None, 20100)        0           ['title_input[0][0]',            \n",
      "                                                                  'text_input[0][0]',             \n",
      "                                                                  'tags_input[0][0]']             \n",
      "                                                                                                  \n",
      " dense_12 (Dense)               (None, 64)           1286464     ['concatenate_2[0][0]']          \n",
      "                                                                                                  \n",
      " dense_13 (Dense)               (None, 1)            65          ['dense_12[0][0]']               \n",
      "                                                                                                  \n",
      " dense_14 (Dense)               (None, 4)            260         ['dense_12[0][0]']               \n",
      "                                                                                                  \n",
      "==================================================================================================\n",
      "Total params: 1,286,789\n",
      "Trainable params: 1,286,789\n",
      "Non-trainable params: 0\n",
      "__________________________________________________________________________________________________\n"
     ]
    }
   ],
   "source": [
    "model.summary()"
   ]
  },
  {
   "cell_type": "code",
   "execution_count": null,
   "id": "a13cb4e8",
   "metadata": {},
   "outputs": [],
   "source": []
  }
 ],
 "metadata": {
  "kernelspec": {
   "display_name": "Python 3 (ipykernel)",
   "language": "python",
   "name": "python3"
  },
  "language_info": {
   "codemirror_mode": {
    "name": "ipython",
    "version": 3
   },
   "file_extension": ".py",
   "mimetype": "text/x-python",
   "name": "python",
   "nbconvert_exporter": "python",
   "pygments_lexer": "ipython3",
   "version": "3.9.12"
  }
 },
 "nbformat": 4,
 "nbformat_minor": 5
}
